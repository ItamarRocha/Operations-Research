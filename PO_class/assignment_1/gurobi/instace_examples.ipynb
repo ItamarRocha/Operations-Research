{
 "cells": [
  {
   "cell_type": "code",
   "execution_count": 1,
   "metadata": {},
   "outputs": [],
   "source": [
    "#import data\n",
    "#from data import Data\n",
    "import data\n",
    "from dataQuestion import Data"
   ]
  },
  {
   "cell_type": "markdown",
   "metadata": {},
   "source": [
    "## Instance 1\n",
    "\n",
    "<p align=\"center\">\n",
    "<img src=\"imgs/i1.png\" >\n",
    "</p>"
   ]
  },
  {
   "cell_type": "code",
   "execution_count": 2,
   "metadata": {},
   "outputs": [
    {
     "name": "stdout",
     "output_type": "stream",
     "text": [
      "Using license file /home/jpvt/gurobi.lic\n",
      "Academic license - for non-commercial use only\n",
      "Gurobi Optimizer version 9.0.2 build v9.0.2rc0 (linux64)\n",
      "Optimize a model with 20 rows, 13 columns and 39 nonzeros\n",
      "Model fingerprint: 0x83656b1a\n",
      "Coefficient statistics:\n",
      "  Matrix range     [1e+00, 1e+00]\n",
      "  Objective range  [1e+00, 1e+00]\n",
      "  Bounds range     [0e+00, 0e+00]\n",
      "  RHS range        [2e+00, 2e+01]\n",
      "Presolve removed 16 rows and 4 columns\n",
      "Presolve time: 0.00s\n",
      "Presolved: 4 rows, 9 columns, 16 nonzeros\n",
      "\n",
      "Iteration    Objective       Primal Inf.    Dual Inf.      Time\n",
      "       0    1.0000000e+00   8.000000e+00   0.000000e+00      0s\n",
      "       4    6.0000000e+00   0.000000e+00   0.000000e+00      0s\n",
      "\n",
      "Solved in 4 iterations and 0.01 seconds\n",
      "Optimal objective  6.000000000e+00\n",
      "\n",
      "Optimal flows for Commodity:\n",
      "1 -> 2: 4\n",
      "1 -> 3: 8\n",
      "1 -> 4: 3\n",
      "2 -> 5: 4\n",
      "3 -> 5: 6\n",
      "3 -> 6: 2\n",
      "4 -> 6: 3\n",
      "5 -> 7: 10\n",
      "6 -> 7: 5\n",
      "1 -> 7: 6\n",
      "\n",
      "Maximum Flow for the instace: 15\n",
      "Execution Time: 10.062 ms\n"
     ]
    }
   ],
   "source": [
    "instance1 = Data('instances/instance1.txt')\n",
    "instance1.gurobi_solver()"
   ]
  },
  {
   "cell_type": "markdown",
   "metadata": {},
   "source": [
    "## Instance 2\n",
    "\n",
    "<p align=\"center\">\n",
    "<img src=\"imgs/i2.png\" >\n",
    "</p>"
   ]
  },
  {
   "cell_type": "code",
   "execution_count": 3,
   "metadata": {},
   "outputs": [
    {
     "name": "stdout",
     "output_type": "stream",
     "text": [
      "Gurobi Optimizer version 9.0.2 build v9.0.2rc0 (linux64)\n",
      "Optimize a model with 22 rows, 14 columns and 42 nonzeros\n",
      "Model fingerprint: 0xcd6ccbdb\n",
      "Coefficient statistics:\n",
      "  Matrix range     [1e+00, 1e+00]\n",
      "  Objective range  [1e+00, 1e+00]\n",
      "  Bounds range     [0e+00, 0e+00]\n",
      "  RHS range        [1e+00, 4e+01]\n",
      "Presolve removed 18 rows and 7 columns\n",
      "Presolve time: 0.00s\n",
      "Presolved: 4 rows, 7 columns, 12 nonzeros\n",
      "\n",
      "Iteration    Objective       Primal Inf.    Dual Inf.      Time\n",
      "       0    5.0000000e+00   2.700000e+01   0.000000e+00      0s\n",
      "       6    5.0000000e+00   0.000000e+00   0.000000e+00      0s\n",
      "\n",
      "Solved in 6 iterations and 0.01 seconds\n",
      "Optimal objective  5.000000000e+00\n",
      "\n",
      "Optimal flows for Commodity:\n",
      "1 -> 2: 20\n",
      "1 -> 5: 1\n",
      "1 -> 6: 12\n",
      "2 -> 3: 8\n",
      "2 -> 6: 1\n",
      "2 -> 7: 11\n",
      "3 -> 4: 8\n",
      "4 -> 8: 8\n",
      "5 -> 6: 1\n",
      "6 -> 7: 14\n",
      "7 -> 8: 25\n",
      "1 -> 8: 5\n",
      "\n",
      "Maximum Flow for the instace: 33\n",
      "Execution Time: 8.54 ms\n"
     ]
    }
   ],
   "source": [
    "instance2 = Data('instances/instance2.txt')\n",
    "instance2.gurobi_solver()"
   ]
  },
  {
   "cell_type": "markdown",
   "metadata": {},
   "source": [
    "## Instance 3\n",
    "\n",
    "<p align=\"center\">\n",
    "<img src=\"imgs/i3.png\" >\n",
    "</p>"
   ]
  },
  {
   "cell_type": "code",
   "execution_count": 4,
   "metadata": {},
   "outputs": [
    {
     "name": "stdout",
     "output_type": "stream",
     "text": [
      "Gurobi Optimizer version 9.0.2 build v9.0.2rc0 (linux64)\n",
      "Optimize a model with 24 rows, 16 columns and 48 nonzeros\n",
      "Model fingerprint: 0xbe752641\n",
      "Coefficient statistics:\n",
      "  Matrix range     [1e+00, 1e+00]\n",
      "  Objective range  [1e+00, 1e+00]\n",
      "  Bounds range     [0e+00, 0e+00]\n",
      "  RHS range        [4e+00, 3e+01]\n",
      "Presolve removed 19 rows and 5 columns\n",
      "Presolve time: 0.00s\n",
      "Presolved: 5 rows, 11 columns, 19 nonzeros\n",
      "\n",
      "Iteration    Objective       Primal Inf.    Dual Inf.      Time\n",
      "       0    0.0000000e+00   1.950000e+01   0.000000e+00      0s\n",
      "       5    2.0000000e+00   0.000000e+00   0.000000e+00      0s\n",
      "\n",
      "Solved in 5 iterations and 0.01 seconds\n",
      "Optimal objective  2.000000000e+00\n",
      "\n",
      "Optimal flows for Commodity:\n",
      "1 -> 2: 10\n",
      "1 -> 3: 5\n",
      "1 -> 4: 13\n",
      "2 -> 5: 9\n",
      "2 -> 6: 1\n",
      "3 -> 6: 8\n",
      "4 -> 7: 13\n",
      "5 -> 8: 9\n",
      "6 -> 8: 9\n",
      "7 -> 3: 3\n",
      "7 -> 8: 10\n",
      "1 -> 8: 2\n",
      "\n",
      "Maximum Flow for the instace: 28\n",
      "Execution Time: 7.481 ms\n"
     ]
    }
   ],
   "source": [
    "instance3 = Data('instances/instance3.txt')\n",
    "instance3.gurobi_solver()"
   ]
  },
  {
   "cell_type": "markdown",
   "metadata": {},
   "source": [
    "## Instance 4\n",
    "\n",
    "<p align=\"center\">\n",
    "<img src=\"imgs/i4.png\" >\n",
    "</p>"
   ]
  },
  {
   "cell_type": "code",
   "execution_count": 5,
   "metadata": {},
   "outputs": [
    {
     "name": "stdout",
     "output_type": "stream",
     "text": [
      "Gurobi Optimizer version 9.0.2 build v9.0.2rc0 (linux64)\n",
      "Optimize a model with 13 rows, 9 columns and 21 nonzeros\n",
      "Model fingerprint: 0xec335147\n",
      "Coefficient statistics:\n",
      "  Matrix range     [1e+00, 1e+00]\n",
      "  Objective range  [1e+00, 1e+00]\n",
      "  Bounds range     [0e+00, 0e+00]\n",
      "  RHS range        [2e+00, 2e+01]\n",
      "Presolve removed 11 rows and 5 columns\n",
      "Presolve time: 0.00s\n",
      "Presolved: 2 rows, 4 columns, 6 nonzeros\n",
      "\n",
      "Iteration    Objective       Primal Inf.    Dual Inf.      Time\n",
      "       0    1.0000000e+00   3.500000e+00   0.000000e+00      0s\n",
      "       1    3.0000000e+00   0.000000e+00   0.000000e+00      0s\n",
      "\n",
      "Solved in 1 iterations and 0.00 seconds\n",
      "Optimal objective  3.000000000e+00\n",
      "\n",
      "Optimal flows for Commodity:\n",
      "1 -> 2: 7\n",
      "1 -> 6: 8\n",
      "2 -> 3: 5\n",
      "2 -> 6: 2\n",
      "3 -> 4: 7\n",
      "5 -> 3: 2\n",
      "5 -> 4: 8\n",
      "1 -> 4: 3\n",
      "\n",
      "Maximum Flow for the instace: 15\n",
      "Execution Time: 7.624 ms\n"
     ]
    }
   ],
   "source": [
    "instance4 = Data('instances/instance4.txt')\n",
    "instance4.gurobi_solver()"
   ]
  },
  {
   "cell_type": "markdown",
   "metadata": {},
   "source": [
    "## Instance 5\n",
    "\n",
    "<p align=\"center\">\n",
    "<img src=\"imgs/i5.png\" >\n",
    "</p>"
   ]
  },
  {
   "cell_type": "code",
   "execution_count": 6,
   "metadata": {},
   "outputs": [
    {
     "name": "stdout",
     "output_type": "stream",
     "text": [
      "Gurobi Optimizer version 9.0.2 build v9.0.2rc0 (linux64)\n",
      "Optimize a model with 17 rows, 11 columns and 33 nonzeros\n",
      "Model fingerprint: 0x52b28128\n",
      "Coefficient statistics:\n",
      "  Matrix range     [1e+00, 1e+00]\n",
      "  Objective range  [1e+00, 1e+00]\n",
      "  Bounds range     [0e+00, 0e+00]\n",
      "  RHS range        [4e+00, 3e+01]\n",
      "Presolve removed 14 rows and 5 columns\n",
      "Presolve time: 0.00s\n",
      "Presolved: 3 rows, 6 columns, 10 nonzeros\n",
      "\n",
      "Iteration    Objective       Primal Inf.    Dual Inf.      Time\n",
      "       0    0.0000000e+00   9.500000e+00   0.000000e+00      0s\n",
      "       4    6.0000000e+00   0.000000e+00   0.000000e+00      0s\n",
      "\n",
      "Solved in 4 iterations and 0.01 seconds\n",
      "Optimal objective  6.000000000e+00\n",
      "\n",
      "Optimal flows for Commodity:\n",
      "1 -> 2: 10\n",
      "1 -> 3: 13\n",
      "2 -> 3: 2\n",
      "2 -> 4: 12\n",
      "3 -> 2: 4\n",
      "3 -> 5: 11\n",
      "4 -> 6: 19\n",
      "5 -> 4: 7\n",
      "5 -> 6: 4\n",
      "1 -> 6: 6\n",
      "\n",
      "Maximum Flow for the instace: 23\n",
      "Execution Time: 7.422 ms\n"
     ]
    }
   ],
   "source": [
    "instance5 = Data('instances/instance5.txt')\n",
    "instance5.gurobi_solver()"
   ]
  },
  {
   "cell_type": "markdown",
   "metadata": {},
   "source": [
    "## Instance 6\n",
    "\n",
    "<p align=\"center\">\n",
    "<img src=\"imgs/i6.png\" >\n",
    "</p>"
   ]
  },
  {
   "cell_type": "code",
   "execution_count": 7,
   "metadata": {},
   "outputs": [
    {
     "name": "stdout",
     "output_type": "stream",
     "text": [
      "Gurobi Optimizer version 9.0.2 build v9.0.2rc0 (linux64)\n",
      "Optimize a model with 37 rows, 22 columns and 66 nonzeros\n",
      "Model fingerprint: 0xa62c8fc4\n",
      "Coefficient statistics:\n",
      "  Matrix range     [1e+00, 1e+00]\n",
      "  Objective range  [1e+00, 1e+00]\n",
      "  Bounds range     [0e+00, 0e+00]\n",
      "  RHS range        [1e+00, 5e+00]\n",
      "Presolve removed 37 rows and 22 columns\n",
      "Presolve time: 0.00s\n",
      "Presolve: All rows and columns removed\n",
      "Iteration    Objective       Primal Inf.    Dual Inf.      Time\n",
      "       0    2.0000000e+00   0.000000e+00   0.000000e+00      0s\n",
      "\n",
      "Solved in 0 iterations and 0.00 seconds\n",
      "Optimal objective  2.000000000e+00\n",
      "\n",
      "Optimal flows for Commodity:\n",
      "1 -> 3: 1\n",
      "1 -> 4: 1\n",
      "1 -> 5: 1\n",
      "3 -> 7: 1\n",
      "4 -> 9: 1\n",
      "5 -> 11: 1\n",
      "7 -> 12: 1\n",
      "9 -> 13: 1\n",
      "11 -> 14: 1\n",
      "12 -> 15: 1\n",
      "13 -> 15: 1\n",
      "14 -> 15: 1\n",
      "1 -> 15: 2\n",
      "\n",
      "Maximum Flow for the instace: 3\n",
      "Execution Time: 7.658 ms\n"
     ]
    }
   ],
   "source": [
    "instance6 = Data('instances/instance6.txt')\n",
    "instance6.gurobi_solver()"
   ]
  },
  {
   "cell_type": "markdown",
   "metadata": {},
   "source": [
    "## Instance 7\n",
    "\n",
    "<p align=\"center\">\n",
    "<img src=\"imgs/i7.png\" >\n",
    "</p>"
   ]
  },
  {
   "cell_type": "code",
   "execution_count": 8,
   "metadata": {},
   "outputs": [
    {
     "name": "stdout",
     "output_type": "stream",
     "text": [
      "Gurobi Optimizer version 9.0.2 build v9.0.2rc0 (linux64)\n",
      "Optimize a model with 36 rows, 25 columns and 75 nonzeros\n",
      "Model fingerprint: 0x7a1ac2be\n",
      "Coefficient statistics:\n",
      "  Matrix range     [1e+00, 1e+00]\n",
      "  Objective range  [1e+00, 1e+00]\n",
      "  Bounds range     [0e+00, 0e+00]\n",
      "  RHS range        [5e+00, 7e+01]\n",
      "Presolve removed 27 rows and 2 columns\n",
      "Presolve time: 0.00s\n",
      "Presolved: 9 rows, 23 columns, 42 nonzeros\n",
      "\n",
      "Iteration    Objective       Primal Inf.    Dual Inf.      Time\n",
      "       0    4.9740000e+00   5.752600e+01   0.000000e+00      0s\n",
      "      10    5.0000000e+00   0.000000e+00   0.000000e+00      0s\n",
      "\n",
      "Solved in 10 iterations and 0.01 seconds\n",
      "Optimal objective  5.000000000e+00\n",
      "\n",
      "Optimal flows for Commodity:\n",
      "1 -> 2: 20\n",
      "1 -> 3: 25\n",
      "1 -> 4: 20\n",
      "2 -> 5: 20\n",
      "2 -> 7: 5\n",
      "3 -> 2: 5\n",
      "3 -> 6: 20\n",
      "4 -> 7: 20\n",
      "5 -> 8: 16\n",
      "5 -> 10: 4\n",
      "6 -> 8: 5\n",
      "6 -> 9: 15\n",
      "7 -> 9: 20\n",
      "7 -> 10: 5\n",
      "8 -> 9: 1\n",
      "8 -> 11: 20\n",
      "9 -> 11: 30\n",
      "9 -> 10: 6\n",
      "10 -> 11: 15\n",
      "1 -> 11: 5\n",
      "\n",
      "Maximum Flow for the instace: 65\n",
      "Execution Time: 8.596 ms\n"
     ]
    }
   ],
   "source": [
    "instance7 = Data('instances/instance7.txt')\n",
    "instance7.gurobi_solver()"
   ]
  }
 ],
 "metadata": {
  "kernelspec": {
   "display_name": "Python 3",
   "language": "python",
   "name": "python3"
  },
  "language_info": {
   "codemirror_mode": {
    "name": "ipython",
    "version": 3
   },
   "file_extension": ".py",
   "mimetype": "text/x-python",
   "name": "python",
   "nbconvert_exporter": "python",
   "pygments_lexer": "ipython3",
   "version": "3.7.6"
  }
 },
 "nbformat": 4,
 "nbformat_minor": 4
}
