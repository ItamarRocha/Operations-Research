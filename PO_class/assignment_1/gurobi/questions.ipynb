{
 "cells": [
  {
   "cell_type": "code",
   "execution_count": 1,
   "metadata": {},
   "outputs": [],
   "source": [
    "#import data\n",
    "#from data import Data\n",
    "import data\n",
    "from dataQuestion import Data"
   ]
  },
  {
   "cell_type": "markdown",
   "metadata": {},
   "source": [
    "## Question 1"
   ]
  },
  {
   "cell_type": "code",
   "execution_count": 2,
   "metadata": {},
   "outputs": [
    {
     "name": "stdout",
     "output_type": "stream",
     "text": [
      "Using license file /home/jpvt/gurobi.lic\n",
      "Academic license - for non-commercial use only\n",
      "Gurobi Optimizer version 9.0.2 build v9.0.2rc0 (linux64)\n",
      "Optimize a model with 20 rows, 13 columns and 39 nonzeros\n",
      "Model fingerprint: 0xe18e7e29\n",
      "Coefficient statistics:\n",
      "  Matrix range     [1e+00, 1e+00]\n",
      "  Objective range  [1e+00, 1e+00]\n",
      "  Bounds range     [0e+00, 0e+00]\n",
      "  RHS range        [1e+00, 2e+01]\n",
      "Presolve removed 17 rows and 7 columns\n",
      "Presolve time: 0.00s\n",
      "Presolved: 3 rows, 6 columns, 10 nonzeros\n",
      "\n",
      "Iteration    Objective       Primal Inf.    Dual Inf.      Time\n",
      "       0    2.0000000e+00   5.000000e+00   0.000000e+00      0s\n",
      "       2    2.0000000e+00   0.000000e+00   0.000000e+00      0s\n",
      "\n",
      "Solved in 2 iterations and 0.01 seconds\n",
      "Optimal objective  2.000000000e+00\n",
      "\n",
      "Optimal flows for Water:\n",
      "1 -> 2: 4\n",
      "1 -> 3: 7\n",
      "1 -> 4: 3\n",
      "2 -> 3: 1\n",
      "2 -> 5: 3\n",
      "3 -> 5: 4\n",
      "3 -> 6: 4\n",
      "4 -> 6: 3\n",
      "5 -> 7: 8\n",
      "6 -> 5: 1\n",
      "6 -> 7: 6\n",
      "1 -> 7: 2\n",
      "\n",
      "Maximum Flow for the instace: 14\n",
      "Execution Time: 7.596 ms\n"
     ]
    }
   ],
   "source": [
    "q1 = Data('instances/questao1.txt', commodity = 'Water')\n",
    "q1.gurobi_solver()"
   ]
  },
  {
   "cell_type": "markdown",
   "metadata": {},
   "source": [
    "## Question 2"
   ]
  },
  {
   "cell_type": "code",
   "execution_count": 17,
   "metadata": {},
   "outputs": [
    {
     "name": "stdout",
     "output_type": "stream",
     "text": [
      "Gurobi Optimizer version 9.0.2 build v9.0.2rc0 (linux64)\n",
      "Optimize a model with 29 rows, 20 columns and 57 nonzeros\n",
      "Model fingerprint: 0x5e399bf5\n",
      "Coefficient statistics:\n",
      "  Matrix range     [1e+00, 1e+00]\n",
      "  Objective range  [1e+00, 1e+00]\n",
      "  Bounds range     [0e+00, 0e+00]\n",
      "  RHS range        [7e+01, 8e+02]\n",
      "Presolve removed 23 rows and 5 columns\n",
      "Presolve time: 0.00s\n",
      "Presolved: 6 rows, 15 columns, 27 nonzeros\n",
      "\n",
      "Iteration    Objective       Primal Inf.    Dual Inf.      Time\n",
      "       0    0.0000000e+00   1.181250e+02   0.000000e+00      0s\n",
      "       8    6.0000000e+01   0.000000e+00   0.000000e+00      0s\n",
      "\n",
      "Solved in 8 iterations and 0.00 seconds\n",
      "Optimal objective  6.000000000e+01\n",
      "\n",
      "Optimal flows for Water:\n",
      "1 -> 4: 125\n",
      "1 -> 5: 60\n",
      "2 -> 4: 70\n",
      "2 -> 5: 90\n",
      "2 -> 6: 110\n",
      "3 -> 5: 140\n",
      "3 -> 6: 120\n",
      "4 -> 7: 110\n",
      "4 -> 8: 85\n",
      "5 -> 7: 110\n",
      "5 -> 8: 95\n",
      "5 -> 9: 85\n",
      "6 -> 8: 130\n",
      "6 -> 9: 100\n",
      "7 -> 10: 220\n",
      "8 -> 10: 310\n",
      "9 -> 10: 185\n",
      "1 -> 10: 60\n",
      "\n",
      "Maximum Flow for the instace: 715\n",
      "Execution Time: 6.509 ms\n"
     ]
    }
   ],
   "source": [
    "q2 = Data('instances/questao2.txt', commodity = 'Water')\n",
    "q2.gurobi_solver()"
   ]
  },
  {
   "cell_type": "markdown",
   "metadata": {},
   "source": [
    "## Question 3"
   ]
  },
  {
   "cell_type": "code",
   "execution_count": 4,
   "metadata": {},
   "outputs": [
    {
     "name": "stdout",
     "output_type": "stream",
     "text": [
      "Gurobi Optimizer version 9.0.2 build v9.0.2rc0 (linux64)\n",
      "Optimize a model with 6 rows, 3 columns and 9 nonzeros\n",
      "Model fingerprint: 0x6e7aad7e\n",
      "Coefficient statistics:\n",
      "  Matrix range     [1e+00, 1e+00]\n",
      "  Objective range  [1e+00, 1e+00]\n",
      "  Bounds range     [0e+00, 0e+00]\n",
      "  RHS range        [3e+00, 3e+00]\n",
      "Presolve removed 6 rows and 3 columns\n",
      "Presolve time: 0.00s\n",
      "Presolve: All rows and columns removed\n",
      "Iteration    Objective       Primal Inf.    Dual Inf.      Time\n",
      "       0    0.0000000e+00   0.000000e+00   0.000000e+00      0s\n",
      "\n",
      "Solved in 0 iterations and 0.00 seconds\n",
      "Optimal objective  0.000000000e+00\n",
      "\n",
      "Optimal flows for Water:\n",
      "1 -> 2: 3\n",
      "2 -> 3: 3\n",
      "\n",
      "Maximum Flow for the instace: 3\n",
      "Execution Time: 7.611 ms\n"
     ]
    }
   ],
   "source": [
    "q3 = Data('instances/questao3.txt', commodity = 'Water')\n",
    "q3.gurobi_solver()"
   ]
  },
  {
   "cell_type": "code",
   "execution_count": null,
   "metadata": {},
   "outputs": [],
   "source": []
  }
 ],
 "metadata": {
  "kernelspec": {
   "display_name": "Python 3",
   "language": "python",
   "name": "python3"
  },
  "language_info": {
   "codemirror_mode": {
    "name": "ipython",
    "version": 3
   },
   "file_extension": ".py",
   "mimetype": "text/x-python",
   "name": "python",
   "nbconvert_exporter": "python",
   "pygments_lexer": "ipython3",
   "version": "3.7.6"
  }
 },
 "nbformat": 4,
 "nbformat_minor": 4
}
