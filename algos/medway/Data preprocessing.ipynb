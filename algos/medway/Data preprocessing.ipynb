{
 "cells": [
  {
   "cell_type": "markdown",
   "metadata": {},
   "source": [
    "# Data Preprocessing notebook\n",
    "* We will use this notebook to preprocess the data we are going to use in our optimization problem."
   ]
  },
  {
   "cell_type": "markdown",
   "metadata": {},
   "source": [
    "## Importing packages needed"
   ]
  },
  {
   "cell_type": "code",
   "execution_count": 1,
   "metadata": {},
   "outputs": [],
   "source": [
    "import pandas as pd\n",
    "import numpy as np\n",
    "import matplotlib.pyplot as plt"
   ]
  },
  {
   "cell_type": "markdown",
   "metadata": {},
   "source": [
    "## Reading our database"
   ]
  },
  {
   "cell_type": "code",
   "execution_count": 2,
   "metadata": {
    "scrolled": false
   },
   "outputs": [
    {
     "data": {
      "text/html": [
       "<div>\n",
       "<style scoped>\n",
       "    .dataframe tbody tr th:only-of-type {\n",
       "        vertical-align: middle;\n",
       "    }\n",
       "\n",
       "    .dataframe tbody tr th {\n",
       "        vertical-align: top;\n",
       "    }\n",
       "\n",
       "    .dataframe thead th {\n",
       "        text-align: right;\n",
       "    }\n",
       "</style>\n",
       "<table border=\"1\" class=\"dataframe\">\n",
       "  <thead>\n",
       "    <tr style=\"text-align: right;\">\n",
       "      <th></th>\n",
       "      <th>Assessor</th>\n",
       "      <th>Aluno</th>\n",
       "      <th>tempo</th>\n",
       "      <th>Idade</th>\n",
       "      <th>Gênero</th>\n",
       "      <th>Quão compatível com seu assessor você se considera?</th>\n",
       "      <th>Onde fez/faz ensino médio?</th>\n",
       "      <th>Alguma religião?</th>\n",
       "      <th>Gosta de esportes?</th>\n",
       "      <th>Como foi/está sendo a qualidade de seu ensino médio?</th>\n",
       "      <th>...</th>\n",
       "      <th>Quão sensível você é?</th>\n",
       "      <th>Você gosta de ser cobrado?</th>\n",
       "      <th>Você é competitivo?</th>\n",
       "      <th>Você é aberto a mudanças? ou é mais resistente?</th>\n",
       "      <th>Você gosta de fazer simulado?</th>\n",
       "      <th>Você recebe apoio da sua família?</th>\n",
       "      <th>Você gostaria de falar sobre a vida pessoal com o assessor ou só estudos?</th>\n",
       "      <th>Quão motivado você está?</th>\n",
       "      <th>Qual é seu maior problema?</th>\n",
       "      <th>Você prefere um assessor do mesmo sexo?</th>\n",
       "    </tr>\n",
       "  </thead>\n",
       "  <tbody>\n",
       "    <tr>\n",
       "      <th>0</th>\n",
       "      <td>Ariel</td>\n",
       "      <td>Adriel Ribeiro</td>\n",
       "      <td>3</td>\n",
       "      <td>18</td>\n",
       "      <td>Masculino</td>\n",
       "      <td>8.0</td>\n",
       "      <td>Motiva</td>\n",
       "      <td>Cristianismo</td>\n",
       "      <td>Sim</td>\n",
       "      <td>5.0</td>\n",
       "      <td>...</td>\n",
       "      <td>3.0</td>\n",
       "      <td>Não</td>\n",
       "      <td>Talvez</td>\n",
       "      <td>Aberto</td>\n",
       "      <td>Sim</td>\n",
       "      <td>Sim</td>\n",
       "      <td>Os dois</td>\n",
       "      <td>8.0</td>\n",
       "      <td>Procrastinação</td>\n",
       "      <td>sim, fico mais confortável</td>\n",
       "    </tr>\n",
       "    <tr>\n",
       "      <th>1</th>\n",
       "      <td>Ariel</td>\n",
       "      <td>Alyce Dantas</td>\n",
       "      <td>4</td>\n",
       "      <td>NaN</td>\n",
       "      <td>NaN</td>\n",
       "      <td>NaN</td>\n",
       "      <td>NaN</td>\n",
       "      <td>NaN</td>\n",
       "      <td>NaN</td>\n",
       "      <td>NaN</td>\n",
       "      <td>...</td>\n",
       "      <td>NaN</td>\n",
       "      <td>NaN</td>\n",
       "      <td>NaN</td>\n",
       "      <td>NaN</td>\n",
       "      <td>NaN</td>\n",
       "      <td>NaN</td>\n",
       "      <td>NaN</td>\n",
       "      <td>NaN</td>\n",
       "      <td>NaN</td>\n",
       "      <td>NaN</td>\n",
       "    </tr>\n",
       "    <tr>\n",
       "      <th>2</th>\n",
       "      <td>Ariel</td>\n",
       "      <td>Barbara Camargo</td>\n",
       "      <td>2</td>\n",
       "      <td>NaN</td>\n",
       "      <td>NaN</td>\n",
       "      <td>NaN</td>\n",
       "      <td>NaN</td>\n",
       "      <td>NaN</td>\n",
       "      <td>NaN</td>\n",
       "      <td>NaN</td>\n",
       "      <td>...</td>\n",
       "      <td>NaN</td>\n",
       "      <td>NaN</td>\n",
       "      <td>NaN</td>\n",
       "      <td>NaN</td>\n",
       "      <td>NaN</td>\n",
       "      <td>NaN</td>\n",
       "      <td>NaN</td>\n",
       "      <td>NaN</td>\n",
       "      <td>NaN</td>\n",
       "      <td>NaN</td>\n",
       "    </tr>\n",
       "    <tr>\n",
       "      <th>3</th>\n",
       "      <td>Ariel</td>\n",
       "      <td>Breno Alves Amorim</td>\n",
       "      <td>2</td>\n",
       "      <td>19</td>\n",
       "      <td>Masculino</td>\n",
       "      <td>10.0</td>\n",
       "      <td>Outro em João Pessoa</td>\n",
       "      <td>Cristianismo</td>\n",
       "      <td>Sim</td>\n",
       "      <td>3.0</td>\n",
       "      <td>...</td>\n",
       "      <td>7.0</td>\n",
       "      <td>Sim</td>\n",
       "      <td>Sim</td>\n",
       "      <td>Aberto</td>\n",
       "      <td>Sim</td>\n",
       "      <td>mais ou menos</td>\n",
       "      <td>Os dois</td>\n",
       "      <td>10.0</td>\n",
       "      <td>Procrastinação</td>\n",
       "      <td>Indiferente</td>\n",
       "    </tr>\n",
       "    <tr>\n",
       "      <th>4</th>\n",
       "      <td>Ariel</td>\n",
       "      <td>Caio Paiva</td>\n",
       "      <td>3</td>\n",
       "      <td>NaN</td>\n",
       "      <td>NaN</td>\n",
       "      <td>NaN</td>\n",
       "      <td>NaN</td>\n",
       "      <td>NaN</td>\n",
       "      <td>NaN</td>\n",
       "      <td>NaN</td>\n",
       "      <td>...</td>\n",
       "      <td>NaN</td>\n",
       "      <td>NaN</td>\n",
       "      <td>NaN</td>\n",
       "      <td>NaN</td>\n",
       "      <td>NaN</td>\n",
       "      <td>NaN</td>\n",
       "      <td>NaN</td>\n",
       "      <td>NaN</td>\n",
       "      <td>NaN</td>\n",
       "      <td>NaN</td>\n",
       "    </tr>\n",
       "  </tbody>\n",
       "</table>\n",
       "<p>5 rows × 36 columns</p>\n",
       "</div>"
      ],
      "text/plain": [
       "  Assessor               Aluno  tempo Idade     Gênero  \\\n",
       "0    Ariel      Adriel Ribeiro      3    18  Masculino   \n",
       "1    Ariel        Alyce Dantas      4   NaN        NaN   \n",
       "2    Ariel     Barbara Camargo      2   NaN        NaN   \n",
       "3    Ariel  Breno Alves Amorim      2    19  Masculino   \n",
       "4    Ariel          Caio Paiva      3   NaN        NaN   \n",
       "\n",
       "   Quão compatível com seu assessor você se considera?  \\\n",
       "0                                                8.0     \n",
       "1                                                NaN     \n",
       "2                                                NaN     \n",
       "3                                               10.0     \n",
       "4                                                NaN     \n",
       "\n",
       "  Onde fez/faz ensino médio? Alguma religião? Gosta de esportes?  \\\n",
       "0                     Motiva     Cristianismo                Sim   \n",
       "1                        NaN              NaN                NaN   \n",
       "2                        NaN              NaN                NaN   \n",
       "3       Outro em João Pessoa     Cristianismo                Sim   \n",
       "4                        NaN              NaN                NaN   \n",
       "\n",
       "   Como foi/está sendo a qualidade de seu ensino médio?  ...  \\\n",
       "0                                                5.0     ...   \n",
       "1                                                NaN     ...   \n",
       "2                                                NaN     ...   \n",
       "3                                                3.0     ...   \n",
       "4                                                NaN     ...   \n",
       "\n",
       "  Quão sensível você é? Você gosta de ser cobrado? Você é competitivo?  \\\n",
       "0                   3.0                        Não              Talvez   \n",
       "1                   NaN                        NaN                 NaN   \n",
       "2                   NaN                        NaN                 NaN   \n",
       "3                   7.0                        Sim                 Sim   \n",
       "4                   NaN                        NaN                 NaN   \n",
       "\n",
       "  Você é aberto a mudanças? ou é mais resistente?  \\\n",
       "0                                          Aberto   \n",
       "1                                             NaN   \n",
       "2                                             NaN   \n",
       "3                                          Aberto   \n",
       "4                                             NaN   \n",
       "\n",
       "  Você gosta de fazer simulado? Você recebe apoio da sua família?  \\\n",
       "0                           Sim                               Sim   \n",
       "1                           NaN                               NaN   \n",
       "2                           NaN                               NaN   \n",
       "3                           Sim                     mais ou menos   \n",
       "4                           NaN                               NaN   \n",
       "\n",
       "  Você gostaria de falar sobre a vida pessoal com o assessor ou só estudos?  \\\n",
       "0                                            Os dois                          \n",
       "1                                                NaN                          \n",
       "2                                                NaN                          \n",
       "3                                            Os dois                          \n",
       "4                                                NaN                          \n",
       "\n",
       "  Quão motivado você está? Qual é seu maior problema?  \\\n",
       "0                      8.0             Procrastinação   \n",
       "1                      NaN                        NaN   \n",
       "2                      NaN                        NaN   \n",
       "3                     10.0             Procrastinação   \n",
       "4                      NaN                        NaN   \n",
       "\n",
       "  Você prefere um assessor do mesmo sexo?  \n",
       "0              sim, fico mais confortável  \n",
       "1                                     NaN  \n",
       "2                                     NaN  \n",
       "3                             Indiferente  \n",
       "4                                     NaN  \n",
       "\n",
       "[5 rows x 36 columns]"
      ]
     },
     "execution_count": 2,
     "metadata": {},
     "output_type": "execute_result"
    }
   ],
   "source": [
    "df = pd.read_csv(\"test_data/students.csv\")\n",
    "df.head()"
   ]
  },
  {
   "cell_type": "markdown",
   "metadata": {},
   "source": [
    "* We can see that the data is ok."
   ]
  },
  {
   "cell_type": "code",
   "execution_count": 3,
   "metadata": {},
   "outputs": [
    {
     "data": {
      "text/plain": [
       "(219, 36)"
      ]
     },
     "execution_count": 3,
     "metadata": {},
     "output_type": "execute_result"
    }
   ],
   "source": [
    "df.shape #we have 209 examples with 36 columns each"
   ]
  },
  {
   "cell_type": "code",
   "execution_count": 4,
   "metadata": {},
   "outputs": [
    {
     "data": {
      "text/html": [
       "<div>\n",
       "<style scoped>\n",
       "    .dataframe tbody tr th:only-of-type {\n",
       "        vertical-align: middle;\n",
       "    }\n",
       "\n",
       "    .dataframe tbody tr th {\n",
       "        vertical-align: top;\n",
       "    }\n",
       "\n",
       "    .dataframe thead th {\n",
       "        text-align: right;\n",
       "    }\n",
       "</style>\n",
       "<table border=\"1\" class=\"dataframe\">\n",
       "  <thead>\n",
       "    <tr style=\"text-align: right;\">\n",
       "      <th></th>\n",
       "      <th>tempo</th>\n",
       "      <th>Quão compatível com seu assessor você se considera?</th>\n",
       "      <th>Como foi/está sendo a qualidade de seu ensino médio?</th>\n",
       "      <th>Quantas vezes já fez enem? (sem contar como treineiro)</th>\n",
       "      <th>Quão sensível você é?</th>\n",
       "      <th>Quão motivado você está?</th>\n",
       "    </tr>\n",
       "  </thead>\n",
       "  <tbody>\n",
       "    <tr>\n",
       "      <th>count</th>\n",
       "      <td>219.000000</td>\n",
       "      <td>157.000000</td>\n",
       "      <td>157.000000</td>\n",
       "      <td>157.000000</td>\n",
       "      <td>157.000000</td>\n",
       "      <td>157.000000</td>\n",
       "    </tr>\n",
       "    <tr>\n",
       "      <th>mean</th>\n",
       "      <td>4.105023</td>\n",
       "      <td>9.165605</td>\n",
       "      <td>3.694268</td>\n",
       "      <td>1.541401</td>\n",
       "      <td>7.159236</td>\n",
       "      <td>7.089172</td>\n",
       "    </tr>\n",
       "    <tr>\n",
       "      <th>std</th>\n",
       "      <td>1.032909</td>\n",
       "      <td>1.042969</td>\n",
       "      <td>0.938236</td>\n",
       "      <td>1.411902</td>\n",
       "      <td>1.926567</td>\n",
       "      <td>1.614739</td>\n",
       "    </tr>\n",
       "    <tr>\n",
       "      <th>min</th>\n",
       "      <td>1.000000</td>\n",
       "      <td>5.000000</td>\n",
       "      <td>0.000000</td>\n",
       "      <td>0.000000</td>\n",
       "      <td>2.000000</td>\n",
       "      <td>3.000000</td>\n",
       "    </tr>\n",
       "    <tr>\n",
       "      <th>25%</th>\n",
       "      <td>4.000000</td>\n",
       "      <td>9.000000</td>\n",
       "      <td>3.000000</td>\n",
       "      <td>0.000000</td>\n",
       "      <td>6.000000</td>\n",
       "      <td>6.000000</td>\n",
       "    </tr>\n",
       "    <tr>\n",
       "      <th>50%</th>\n",
       "      <td>4.000000</td>\n",
       "      <td>9.000000</td>\n",
       "      <td>4.000000</td>\n",
       "      <td>1.000000</td>\n",
       "      <td>7.000000</td>\n",
       "      <td>7.000000</td>\n",
       "    </tr>\n",
       "    <tr>\n",
       "      <th>75%</th>\n",
       "      <td>5.000000</td>\n",
       "      <td>10.000000</td>\n",
       "      <td>4.000000</td>\n",
       "      <td>2.000000</td>\n",
       "      <td>9.000000</td>\n",
       "      <td>8.000000</td>\n",
       "    </tr>\n",
       "    <tr>\n",
       "      <th>max</th>\n",
       "      <td>5.000000</td>\n",
       "      <td>10.000000</td>\n",
       "      <td>5.000000</td>\n",
       "      <td>6.000000</td>\n",
       "      <td>10.000000</td>\n",
       "      <td>10.000000</td>\n",
       "    </tr>\n",
       "  </tbody>\n",
       "</table>\n",
       "</div>"
      ],
      "text/plain": [
       "            tempo  Quão compatível com seu assessor você se considera?  \\\n",
       "count  219.000000                                         157.000000     \n",
       "mean     4.105023                                           9.165605     \n",
       "std      1.032909                                           1.042969     \n",
       "min      1.000000                                           5.000000     \n",
       "25%      4.000000                                           9.000000     \n",
       "50%      4.000000                                           9.000000     \n",
       "75%      5.000000                                          10.000000     \n",
       "max      5.000000                                          10.000000     \n",
       "\n",
       "       Como foi/está sendo a qualidade de seu ensino médio?  \\\n",
       "count                                         157.000000      \n",
       "mean                                            3.694268      \n",
       "std                                             0.938236      \n",
       "min                                             0.000000      \n",
       "25%                                             3.000000      \n",
       "50%                                             4.000000      \n",
       "75%                                             4.000000      \n",
       "max                                             5.000000      \n",
       "\n",
       "       Quantas vezes já fez enem? (sem contar como treineiro)  \\\n",
       "count                                         157.000000        \n",
       "mean                                            1.541401        \n",
       "std                                             1.411902        \n",
       "min                                             0.000000        \n",
       "25%                                             0.000000        \n",
       "50%                                             1.000000        \n",
       "75%                                             2.000000        \n",
       "max                                             6.000000        \n",
       "\n",
       "       Quão sensível você é?  Quão motivado você está?  \n",
       "count             157.000000                157.000000  \n",
       "mean                7.159236                  7.089172  \n",
       "std                 1.926567                  1.614739  \n",
       "min                 2.000000                  3.000000  \n",
       "25%                 6.000000                  6.000000  \n",
       "50%                 7.000000                  7.000000  \n",
       "75%                 9.000000                  8.000000  \n",
       "max                10.000000                 10.000000  "
      ]
     },
     "execution_count": 4,
     "metadata": {},
     "output_type": "execute_result"
    }
   ],
   "source": [
    "df.describe()"
   ]
  },
  {
   "cell_type": "markdown",
   "metadata": {},
   "source": [
    "* The variable *tempo* (**time**) is in a scale such as these are the corresponding(in minutes):\n",
    "<table border = \"1\">\n",
    "\n",
    "    <tr>\n",
    "        <td>Till 5</td>\n",
    "        <td>between 5 e 10</td>\n",
    "        <td>between 10 e 15</td>\n",
    "        <td>between 15 e 20</td>\n",
    "        <td>between 20 e 25</td>\n",
    "        <td>25+</td>\n",
    "    </tr>\n",
    "    \n",
    "    <tr>\n",
    "        <td>0</td>\n",
    "        <td>1</td>\n",
    "        <td>2</td>\n",
    "        <td>3</td>\n",
    "        <td>4</td>\n",
    "        <td>5</td>\n",
    "    </tr>\n",
    "</table>"
   ]
  },
  {
   "cell_type": "code",
   "execution_count": 5,
   "metadata": {},
   "outputs": [
    {
     "name": "stdout",
     "output_type": "stream",
     "text": [
      "<class 'pandas.core.frame.DataFrame'>\n",
      "RangeIndex: 219 entries, 0 to 218\n",
      "Data columns (total 36 columns):\n",
      " #   Column                                                                            Non-Null Count  Dtype  \n",
      "---  ------                                                                            --------------  -----  \n",
      " 0   Assessor                                                                          219 non-null    object \n",
      " 1   Aluno                                                                             219 non-null    object \n",
      " 2   tempo                                                                             219 non-null    int64  \n",
      " 3   Idade                                                                             157 non-null    object \n",
      " 4   Gênero                                                                            157 non-null    object \n",
      " 5   Quão compatível com seu assessor você se considera?                               157 non-null    float64\n",
      " 6   Onde fez/faz ensino médio?                                                        157 non-null    object \n",
      " 7   Alguma religião?                                                                  157 non-null    object \n",
      " 8   Gosta de esportes?                                                                157 non-null    object \n",
      " 9   Como foi/está sendo a qualidade de seu ensino médio?                              157 non-null    float64\n",
      " 10  Você se envolve com política?                                                     157 non-null    object \n",
      " 11  Como se considera politicamente?                                                  155 non-null    object \n",
      " 12  Que área compreende o curso que deseja fazer na faculdade?                        157 non-null    object \n",
      " 13  Qual sua área preferida no ENEM?                                                  157 non-null    object \n",
      " 14  Quantos irmãos você tem?                                                          157 non-null    object \n",
      " 15  Tem ou já teve algum problema de saúde físico?                                    157 non-null    object \n",
      " 16  Tem ou já teve algum problema de saúde mental?                                    157 non-null    object \n",
      " 17  Pretende fazer faculdade na paraíba?                                              157 non-null    object \n",
      " 18  Pratica atividade física com frequência?                                          157 non-null    object \n",
      " 19  Introvertido ou extrovertido?                                                     157 non-null    object \n",
      " 20  No tempo livre prefere:                                                           156 non-null    object \n",
      " 21  Tem facilidade em fazer amizades?                                                 157 non-null    object \n",
      " 22  Que tipo de assessor prefere? mais técnico ou que lide melhor com seu emocional?  157 non-null    object \n",
      " 23  Quantas vezes já fez enem? (sem contar como treineiro)                            157 non-null    float64\n",
      " 24  Você se considera uma pessoa paciente?                                            157 non-null    object \n",
      " 25  Você é organizado?                                                                157 non-null    object \n",
      " 26  Quão sensível você é?                                                             157 non-null    float64\n",
      " 27  Você gosta de ser cobrado?                                                        157 non-null    object \n",
      " 28  Você é competitivo?                                                               157 non-null    object \n",
      " 29  Você é aberto a mudanças? ou é mais resistente?                                   157 non-null    object \n",
      " 30  Você gosta de fazer simulado?                                                     157 non-null    object \n",
      " 31  Você recebe apoio da sua família?                                                 157 non-null    object \n",
      " 32  Você gostaria de falar sobre a vida pessoal com o assessor ou só estudos?         157 non-null    object \n",
      " 33  Quão motivado você está?                                                          157 non-null    float64\n",
      " 34  Qual é seu maior problema?                                                        156 non-null    object \n",
      " 35  Você prefere um assessor do mesmo sexo?                                           157 non-null    object \n",
      "dtypes: float64(5), int64(1), object(30)\n",
      "memory usage: 61.7+ KB\n"
     ]
    }
   ],
   "source": [
    "df.info()"
   ]
  },
  {
   "cell_type": "markdown",
   "metadata": {},
   "source": [
    "* Althought there are 219 rows with different students data, we have some missing data as we can see bellow:"
   ]
  },
  {
   "cell_type": "code",
   "execution_count": 6,
   "metadata": {},
   "outputs": [
    {
     "data": {
      "text/plain": [
       "Assessor                                                                             0.000000\n",
       "Aluno                                                                                0.000000\n",
       "tempo                                                                                0.000000\n",
       "Idade                                                                               28.310502\n",
       "Gênero                                                                              28.310502\n",
       "Quão compatível com seu assessor você se considera?                                 28.310502\n",
       "Onde fez/faz ensino médio?                                                          28.310502\n",
       "Alguma religião?                                                                    28.310502\n",
       "Gosta de esportes?                                                                  28.310502\n",
       "Como foi/está sendo a qualidade de seu ensino médio?                                28.310502\n",
       "Você se envolve com política?                                                       28.310502\n",
       "Como se considera politicamente?                                                    29.223744\n",
       "Que área compreende o curso que deseja fazer na faculdade?                          28.310502\n",
       "Qual sua área preferida no ENEM?                                                    28.310502\n",
       "Quantos irmãos você tem?                                                            28.310502\n",
       "Tem ou já teve algum problema de saúde físico?                                      28.310502\n",
       "Tem ou já teve algum problema de saúde mental?                                      28.310502\n",
       "Pretende fazer faculdade na paraíba?                                                28.310502\n",
       "Pratica atividade física com frequência?                                            28.310502\n",
       "Introvertido ou extrovertido?                                                       28.310502\n",
       "No tempo livre prefere:                                                             28.767123\n",
       "Tem facilidade em fazer amizades?                                                   28.310502\n",
       "Que tipo de assessor prefere? mais técnico ou que lide melhor com seu emocional?    28.310502\n",
       "Quantas vezes já fez enem? (sem contar como treineiro)                              28.310502\n",
       "Você se considera uma pessoa paciente?                                              28.310502\n",
       "Você é organizado?                                                                  28.310502\n",
       "Quão sensível você é?                                                               28.310502\n",
       "Você gosta de ser cobrado?                                                          28.310502\n",
       "Você é competitivo?                                                                 28.310502\n",
       "Você é aberto a mudanças? ou é mais resistente?                                     28.310502\n",
       "Você gosta de fazer simulado?                                                       28.310502\n",
       "Você recebe apoio da sua família?                                                   28.310502\n",
       "Você gostaria de falar sobre a vida pessoal com o assessor ou só estudos?           28.310502\n",
       "Quão motivado você está?                                                            28.310502\n",
       "Qual é seu maior problema?                                                          28.767123\n",
       "Você prefere um assessor do mesmo sexo?                                             28.310502\n",
       "dtype: float64"
      ]
     },
     "execution_count": 6,
     "metadata": {},
     "output_type": "execute_result"
    }
   ],
   "source": [
    "df.isnull().sum()/df.shape[0] * 100"
   ]
  },
  {
   "cell_type": "markdown",
   "metadata": {},
   "source": [
    "* In almost every variable besides time, name and assessor we have 28% of missing data. It does influence in the result but we will solve this by two different means."
   ]
  },
  {
   "cell_type": "markdown",
   "metadata": {},
   "source": [
    "## Distributions"
   ]
  },
  {
   "cell_type": "code",
   "execution_count": 7,
   "metadata": {},
   "outputs": [
    {
     "data": {
      "text/plain": [
       "count    157.000000\n",
       "mean       9.165605\n",
       "std        1.042969\n",
       "min        5.000000\n",
       "25%        9.000000\n",
       "50%        9.000000\n",
       "75%       10.000000\n",
       "max       10.000000\n",
       "Name: Quão compatível com seu assessor você se considera?, dtype: float64"
      ]
     },
     "execution_count": 7,
     "metadata": {},
     "output_type": "execute_result"
    }
   ],
   "source": [
    "#overall compatibility\n",
    "df[\"Quão compatível com seu assessor você se considera?\"].describe()"
   ]
  },
  {
   "cell_type": "code",
   "execution_count": 8,
   "metadata": {},
   "outputs": [],
   "source": [
    "compatibility = {}\n",
    "for assessor in df[\"Assessor\"].unique():\n",
    "    mean = df[df[\"Assessor\"] == assessor][\"Quão compatível com seu assessor você se considera?\"].mean()\n",
    "    compatibility[assessor] = mean;"
   ]
  },
  {
   "cell_type": "code",
   "execution_count": 9,
   "metadata": {},
   "outputs": [
    {
     "data": {
      "text/html": [
       "<div>\n",
       "<style scoped>\n",
       "    .dataframe tbody tr th:only-of-type {\n",
       "        vertical-align: middle;\n",
       "    }\n",
       "\n",
       "    .dataframe tbody tr th {\n",
       "        vertical-align: top;\n",
       "    }\n",
       "\n",
       "    .dataframe thead th {\n",
       "        text-align: right;\n",
       "    }\n",
       "</style>\n",
       "<table border=\"1\" class=\"dataframe\">\n",
       "  <thead>\n",
       "    <tr style=\"text-align: right;\">\n",
       "      <th></th>\n",
       "      <th>0</th>\n",
       "    </tr>\n",
       "  </thead>\n",
       "  <tbody>\n",
       "    <tr>\n",
       "      <th>count</th>\n",
       "      <td>15.000000</td>\n",
       "    </tr>\n",
       "    <tr>\n",
       "      <th>mean</th>\n",
       "      <td>9.166296</td>\n",
       "    </tr>\n",
       "    <tr>\n",
       "      <th>std</th>\n",
       "      <td>0.478565</td>\n",
       "    </tr>\n",
       "    <tr>\n",
       "      <th>min</th>\n",
       "      <td>8.285714</td>\n",
       "    </tr>\n",
       "    <tr>\n",
       "      <th>25%</th>\n",
       "      <td>8.925000</td>\n",
       "    </tr>\n",
       "    <tr>\n",
       "      <th>50%</th>\n",
       "      <td>9.000000</td>\n",
       "    </tr>\n",
       "    <tr>\n",
       "      <th>75%</th>\n",
       "      <td>9.577778</td>\n",
       "    </tr>\n",
       "    <tr>\n",
       "      <th>max</th>\n",
       "      <td>9.833333</td>\n",
       "    </tr>\n",
       "  </tbody>\n",
       "</table>\n",
       "</div>"
      ],
      "text/plain": [
       "               0\n",
       "count  15.000000\n",
       "mean    9.166296\n",
       "std     0.478565\n",
       "min     8.285714\n",
       "25%     8.925000\n",
       "50%     9.000000\n",
       "75%     9.577778\n",
       "max     9.833333"
      ]
     },
     "execution_count": 9,
     "metadata": {},
     "output_type": "execute_result"
    }
   ],
   "source": [
    "# mean compatibility\n",
    "pd.DataFrame(compatibility.values(),index=compatibility.keys()).sort_values(by=0).describe()"
   ]
  },
  {
   "cell_type": "code",
   "execution_count": 10,
   "metadata": {},
   "outputs": [
    {
     "data": {
      "text/plain": [
       "count    219.000000\n",
       "mean       4.105023\n",
       "std        1.032909\n",
       "min        1.000000\n",
       "25%        4.000000\n",
       "50%        4.000000\n",
       "75%        5.000000\n",
       "max        5.000000\n",
       "Name: tempo, dtype: float64"
      ]
     },
     "execution_count": 10,
     "metadata": {},
     "output_type": "execute_result"
    }
   ],
   "source": [
    "df.tempo.describe()"
   ]
  },
  {
   "cell_type": "markdown",
   "metadata": {},
   "source": [
    "* We are aiming to maximize the overall compatibility while minimizing the work the employees have"
   ]
  },
  {
   "cell_type": "markdown",
   "metadata": {},
   "source": [
    "## Reading the assessors data"
   ]
  },
  {
   "cell_type": "code",
   "execution_count": 11,
   "metadata": {
    "scrolled": true
   },
   "outputs": [
    {
     "data": {
      "text/html": [
       "<div>\n",
       "<style scoped>\n",
       "    .dataframe tbody tr th:only-of-type {\n",
       "        vertical-align: middle;\n",
       "    }\n",
       "\n",
       "    .dataframe tbody tr th {\n",
       "        vertical-align: top;\n",
       "    }\n",
       "\n",
       "    .dataframe thead th {\n",
       "        text-align: right;\n",
       "    }\n",
       "</style>\n",
       "<table border=\"1\" class=\"dataframe\">\n",
       "  <thead>\n",
       "    <tr style=\"text-align: right;\">\n",
       "      <th></th>\n",
       "      <th>Quem é você?</th>\n",
       "      <th>Idade</th>\n",
       "      <th>Gênero</th>\n",
       "      <th>Onde fez ensino médio?</th>\n",
       "      <th>Alguma religião?</th>\n",
       "      <th>Gosta de esportes?</th>\n",
       "      <th>Como foi a qualidade de seu ensino médio?</th>\n",
       "      <th>Você se envolve com política?</th>\n",
       "      <th>Como se considera politicamente?</th>\n",
       "      <th>Que área compreende o curso que deseja fazer/faz na faculdade?</th>\n",
       "      <th>...</th>\n",
       "      <th>Quão sensível você é?</th>\n",
       "      <th>Você costuma cobrar seus alunos?</th>\n",
       "      <th>Você é competitivo?</th>\n",
       "      <th>Você é aberto a mudanças? ou é mais resistente?</th>\n",
       "      <th>Você costuma passar simulados pros alunos?</th>\n",
       "      <th>Você recebe apoio da sua família?</th>\n",
       "      <th>você costuma conversar com seus alunos sobre a vida pessoal deles ou só estudos?</th>\n",
       "      <th>Quão bom você é em motivar seus alunos?</th>\n",
       "      <th>Qual problema você é mais apto a ajudar os seus alunos a resolver?</th>\n",
       "      <th>Você tem problemas em receber alunos de sexo diferente?</th>\n",
       "    </tr>\n",
       "  </thead>\n",
       "  <tbody>\n",
       "    <tr>\n",
       "      <th>0</th>\n",
       "      <td>Davi</td>\n",
       "      <td>20</td>\n",
       "      <td>Masculino</td>\n",
       "      <td>Motiva</td>\n",
       "      <td>Cristianismo</td>\n",
       "      <td>Sim</td>\n",
       "      <td>5</td>\n",
       "      <td>Não, prefiro focar em outras coisas.</td>\n",
       "      <td>Centro</td>\n",
       "      <td>Saúde</td>\n",
       "      <td>...</td>\n",
       "      <td>5</td>\n",
       "      <td>Sim</td>\n",
       "      <td>Talvez</td>\n",
       "      <td>Aberto</td>\n",
       "      <td>Sim</td>\n",
       "      <td>Sim</td>\n",
       "      <td>Os dois</td>\n",
       "      <td>8</td>\n",
       "      <td>Procrastinação</td>\n",
       "      <td>Não</td>\n",
       "    </tr>\n",
       "    <tr>\n",
       "      <th>1</th>\n",
       "      <td>Lorenna</td>\n",
       "      <td>20</td>\n",
       "      <td>Feminino</td>\n",
       "      <td>Motiva</td>\n",
       "      <td>Agnóstico</td>\n",
       "      <td>Sim</td>\n",
       "      <td>4</td>\n",
       "      <td>Não, prefiro focar em outras coisas.</td>\n",
       "      <td>Esquerda</td>\n",
       "      <td>Saúde</td>\n",
       "      <td>...</td>\n",
       "      <td>7</td>\n",
       "      <td>Sim</td>\n",
       "      <td>Sim</td>\n",
       "      <td>Aberto</td>\n",
       "      <td>Sim</td>\n",
       "      <td>mais ou menos</td>\n",
       "      <td>Os dois</td>\n",
       "      <td>9</td>\n",
       "      <td>Procrastinação</td>\n",
       "      <td>Não</td>\n",
       "    </tr>\n",
       "    <tr>\n",
       "      <th>2</th>\n",
       "      <td>Rayssa</td>\n",
       "      <td>23</td>\n",
       "      <td>Feminino</td>\n",
       "      <td>Motiva</td>\n",
       "      <td>Cristianismo</td>\n",
       "      <td>Não</td>\n",
       "      <td>5</td>\n",
       "      <td>Não, prefiro focar em outras coisas.</td>\n",
       "      <td>Direita</td>\n",
       "      <td>Saúde</td>\n",
       "      <td>...</td>\n",
       "      <td>6</td>\n",
       "      <td>Sim</td>\n",
       "      <td>Sim</td>\n",
       "      <td>Aberto</td>\n",
       "      <td>Sim</td>\n",
       "      <td>Sim</td>\n",
       "      <td>Os dois</td>\n",
       "      <td>5</td>\n",
       "      <td>Dedicação</td>\n",
       "      <td>Não</td>\n",
       "    </tr>\n",
       "    <tr>\n",
       "      <th>3</th>\n",
       "      <td>Débora</td>\n",
       "      <td>20</td>\n",
       "      <td>Feminino</td>\n",
       "      <td>Outro em João Pessoa</td>\n",
       "      <td>Cristianismo</td>\n",
       "      <td>Sim</td>\n",
       "      <td>3</td>\n",
       "      <td>Sim, acho importante.</td>\n",
       "      <td>Esquerda</td>\n",
       "      <td>Saúde</td>\n",
       "      <td>...</td>\n",
       "      <td>4</td>\n",
       "      <td>Sim</td>\n",
       "      <td>Sim</td>\n",
       "      <td>Aberto</td>\n",
       "      <td>Sim</td>\n",
       "      <td>Sim</td>\n",
       "      <td>Os dois</td>\n",
       "      <td>7</td>\n",
       "      <td>Dedicação</td>\n",
       "      <td>Não</td>\n",
       "    </tr>\n",
       "    <tr>\n",
       "      <th>4</th>\n",
       "      <td>Glaucielle</td>\n",
       "      <td>24+</td>\n",
       "      <td>Feminino</td>\n",
       "      <td>Outro em João Pessoa</td>\n",
       "      <td>Cristianismo</td>\n",
       "      <td>Sim</td>\n",
       "      <td>3</td>\n",
       "      <td>Sim, acho importante.</td>\n",
       "      <td>Esquerda</td>\n",
       "      <td>Saúde</td>\n",
       "      <td>...</td>\n",
       "      <td>8</td>\n",
       "      <td>Sim</td>\n",
       "      <td>Talvez</td>\n",
       "      <td>Aberto</td>\n",
       "      <td>Sim</td>\n",
       "      <td>Sim</td>\n",
       "      <td>Os dois</td>\n",
       "      <td>9</td>\n",
       "      <td>Procrastinação</td>\n",
       "      <td>Não</td>\n",
       "    </tr>\n",
       "  </tbody>\n",
       "</table>\n",
       "<p>5 rows × 33 columns</p>\n",
       "</div>"
      ],
      "text/plain": [
       "  Quem é você? Idade     Gênero Onde fez ensino médio? Alguma religião?  \\\n",
       "0         Davi    20  Masculino                 Motiva     Cristianismo   \n",
       "1      Lorenna    20   Feminino                 Motiva        Agnóstico   \n",
       "2       Rayssa    23   Feminino                 Motiva     Cristianismo   \n",
       "3       Débora    20   Feminino   Outro em João Pessoa     Cristianismo   \n",
       "4   Glaucielle   24+   Feminino   Outro em João Pessoa     Cristianismo   \n",
       "\n",
       "  Gosta de esportes?  Como foi a qualidade de seu ensino médio?  \\\n",
       "0                Sim                                          5   \n",
       "1                Sim                                          4   \n",
       "2                Não                                          5   \n",
       "3                Sim                                          3   \n",
       "4                Sim                                          3   \n",
       "\n",
       "          Você se envolve com política? Como se considera politicamente?  \\\n",
       "0  Não, prefiro focar em outras coisas.                           Centro   \n",
       "1  Não, prefiro focar em outras coisas.                         Esquerda   \n",
       "2  Não, prefiro focar em outras coisas.                          Direita   \n",
       "3                 Sim, acho importante.                         Esquerda   \n",
       "4                 Sim, acho importante.                         Esquerda   \n",
       "\n",
       "  Que área compreende o curso que deseja fazer/faz na faculdade?  ...  \\\n",
       "0                                              Saúde              ...   \n",
       "1                                              Saúde              ...   \n",
       "2                                              Saúde              ...   \n",
       "3                                              Saúde              ...   \n",
       "4                                              Saúde              ...   \n",
       "\n",
       "  Quão sensível você é?  Você costuma cobrar seus alunos? Você é competitivo?  \\\n",
       "0                     5                               Sim              Talvez   \n",
       "1                     7                               Sim                 Sim   \n",
       "2                     6                               Sim                 Sim   \n",
       "3                     4                               Sim                 Sim   \n",
       "4                     8                               Sim              Talvez   \n",
       "\n",
       "  Você é aberto a mudanças? ou é mais resistente?  \\\n",
       "0                                          Aberto   \n",
       "1                                          Aberto   \n",
       "2                                          Aberto   \n",
       "3                                          Aberto   \n",
       "4                                          Aberto   \n",
       "\n",
       "  Você costuma passar simulados pros alunos?  \\\n",
       "0                                        Sim   \n",
       "1                                        Sim   \n",
       "2                                        Sim   \n",
       "3                                        Sim   \n",
       "4                                        Sim   \n",
       "\n",
       "  Você recebe apoio da sua família?  \\\n",
       "0                               Sim   \n",
       "1                     mais ou menos   \n",
       "2                               Sim   \n",
       "3                               Sim   \n",
       "4                               Sim   \n",
       "\n",
       "  você costuma conversar com seus alunos sobre a vida pessoal deles ou só estudos?  \\\n",
       "0                                            Os dois                                 \n",
       "1                                            Os dois                                 \n",
       "2                                            Os dois                                 \n",
       "3                                            Os dois                                 \n",
       "4                                            Os dois                                 \n",
       "\n",
       "  Quão bom você é em motivar seus alunos?  \\\n",
       "0                                       8   \n",
       "1                                       9   \n",
       "2                                       5   \n",
       "3                                       7   \n",
       "4                                       9   \n",
       "\n",
       "  Qual problema você é mais apto a ajudar os seus alunos a resolver?  \\\n",
       "0                                     Procrastinação                   \n",
       "1                                     Procrastinação                   \n",
       "2                                          Dedicação                   \n",
       "3                                          Dedicação                   \n",
       "4                                     Procrastinação                   \n",
       "\n",
       "  Você tem problemas em receber alunos de sexo diferente?  \n",
       "0                                                Não       \n",
       "1                                                Não       \n",
       "2                                                Não       \n",
       "3                                                Não       \n",
       "4                                                Não       \n",
       "\n",
       "[5 rows x 33 columns]"
      ]
     },
     "execution_count": 11,
     "metadata": {},
     "output_type": "execute_result"
    }
   ],
   "source": [
    "df_assessores = pd.read_csv(\"test_data/assessores.csv\")\n",
    "df_assessores.head()"
   ]
  },
  {
   "cell_type": "markdown",
   "metadata": {},
   "source": [
    "## Removing missing values"
   ]
  },
  {
   "cell_type": "code",
   "execution_count": 15,
   "metadata": {},
   "outputs": [],
   "source": [
    "df_students_answered = df[~df.Idade.isna()]"
   ]
  },
  {
   "cell_type": "code",
   "execution_count": 34,
   "metadata": {
    "scrolled": false
   },
   "outputs": [
    {
     "data": {
      "text/plain": [
       "Assessor                                                                            0\n",
       "Aluno                                                                               0\n",
       "tempo                                                                               0\n",
       "Idade                                                                               0\n",
       "Gênero                                                                              0\n",
       "Quão compatível com seu assessor você se considera?                                 0\n",
       "Onde fez/faz ensino médio?                                                          0\n",
       "Alguma religião?                                                                    0\n",
       "Gosta de esportes?                                                                  0\n",
       "Como foi/está sendo a qualidade de seu ensino médio?                                0\n",
       "Você se envolve com política?                                                       0\n",
       "Como se considera politicamente?                                                    2\n",
       "Que área compreende o curso que deseja fazer na faculdade?                          0\n",
       "Qual sua área preferida no ENEM?                                                    0\n",
       "Quantos irmãos você tem?                                                            0\n",
       "Tem ou já teve algum problema de saúde físico?                                      0\n",
       "Tem ou já teve algum problema de saúde mental?                                      0\n",
       "Pretende fazer faculdade na paraíba?                                                0\n",
       "Pratica atividade física com frequência?                                            0\n",
       "Introvertido ou extrovertido?                                                       0\n",
       "No tempo livre prefere:                                                             1\n",
       "Tem facilidade em fazer amizades?                                                   0\n",
       "Que tipo de assessor prefere? mais técnico ou que lide melhor com seu emocional?    0\n",
       "Quantas vezes já fez enem? (sem contar como treineiro)                              0\n",
       "Você se considera uma pessoa paciente?                                              0\n",
       "Você é organizado?                                                                  0\n",
       "Quão sensível você é?                                                               0\n",
       "Você gosta de ser cobrado?                                                          0\n",
       "Você é competitivo?                                                                 0\n",
       "Você é aberto a mudanças? ou é mais resistente?                                     0\n",
       "Você gosta de fazer simulado?                                                       0\n",
       "Você recebe apoio da sua família?                                                   0\n",
       "Você gostaria de falar sobre a vida pessoal com o assessor ou só estudos?           0\n",
       "Quão motivado você está?                                                            0\n",
       "Qual é seu maior problema?                                                          1\n",
       "Você prefere um assessor do mesmo sexo?                                             0\n",
       "dtype: int64"
      ]
     },
     "execution_count": 34,
     "metadata": {},
     "output_type": "execute_result"
    }
   ],
   "source": [
    "df_students_answered.isnull().sum()"
   ]
  },
  {
   "cell_type": "markdown",
   "metadata": {},
   "source": [
    "* showing all the ones that still have missing data"
   ]
  },
  {
   "cell_type": "code",
   "execution_count": 59,
   "metadata": {
    "scrolled": false
   },
   "outputs": [
    {
     "data": {
      "text/html": [
       "<div>\n",
       "<style scoped>\n",
       "    .dataframe tbody tr th:only-of-type {\n",
       "        vertical-align: middle;\n",
       "    }\n",
       "\n",
       "    .dataframe tbody tr th {\n",
       "        vertical-align: top;\n",
       "    }\n",
       "\n",
       "    .dataframe thead th {\n",
       "        text-align: right;\n",
       "    }\n",
       "</style>\n",
       "<table border=\"1\" class=\"dataframe\">\n",
       "  <thead>\n",
       "    <tr style=\"text-align: right;\">\n",
       "      <th></th>\n",
       "      <th>Assessor</th>\n",
       "      <th>Aluno</th>\n",
       "      <th>tempo</th>\n",
       "      <th>Idade</th>\n",
       "      <th>Gênero</th>\n",
       "      <th>Quão compatível com seu assessor você se considera?</th>\n",
       "      <th>Onde fez/faz ensino médio?</th>\n",
       "      <th>Alguma religião?</th>\n",
       "      <th>Gosta de esportes?</th>\n",
       "      <th>Como foi/está sendo a qualidade de seu ensino médio?</th>\n",
       "      <th>...</th>\n",
       "      <th>Você gosta de ser cobrado?</th>\n",
       "      <th>Você é competitivo?</th>\n",
       "      <th>Você é aberto a mudanças? ou é mais resistente?</th>\n",
       "      <th>Você gosta de fazer simulado?</th>\n",
       "      <th>Você recebe apoio da sua família?</th>\n",
       "      <th>Você gostaria de falar sobre a vida pessoal com o assessor ou só estudos?</th>\n",
       "      <th>Quão motivado você está?</th>\n",
       "      <th>Qual é seu maior problema?</th>\n",
       "      <th>Você prefere um assessor do mesmo sexo?</th>\n",
       "      <th>(Qual é seu maior problema?, 110)</th>\n",
       "    </tr>\n",
       "  </thead>\n",
       "  <tbody>\n",
       "  </tbody>\n",
       "</table>\n",
       "<p>0 rows × 37 columns</p>\n",
       "</div>"
      ],
      "text/plain": [
       "Empty DataFrame\n",
       "Columns: [Assessor, Aluno, tempo, Idade, Gênero, Quão compatível com seu assessor você se considera?, Onde fez/faz ensino médio?, Alguma religião?, Gosta de esportes?, Como foi/está sendo a qualidade de seu ensino médio?, Você se envolve com política?, Como se considera politicamente?, Que área compreende o curso que deseja fazer na faculdade?, Qual sua área preferida no ENEM?, Quantos irmãos você tem?, Tem ou já teve algum problema de saúde físico?, Tem ou já teve algum problema de saúde mental?, Pretende fazer faculdade na paraíba?, Pratica atividade física com frequência?, Introvertido ou extrovertido?, No tempo livre prefere:, Tem facilidade em fazer amizades?, Que tipo de assessor prefere? mais técnico ou que lide melhor com seu emocional?, Quantas vezes já fez enem? (sem contar como treineiro), Você se considera uma pessoa paciente?, Você é organizado?, Quão sensível você é?, Você gosta de ser cobrado?, Você é competitivo?, Você é aberto a mudanças? ou é mais resistente?, Você gosta de fazer simulado?, Você recebe apoio da sua família?, Você gostaria de falar sobre a vida pessoal com o assessor ou só estudos?, Quão motivado você está?, Qual é seu maior problema?, Você prefere um assessor do mesmo sexo?, (Qual é seu maior problema?, 110)]\n",
       "Index: []\n",
       "\n",
       "[0 rows x 37 columns]"
      ]
     },
     "execution_count": 59,
     "metadata": {},
     "output_type": "execute_result"
    }
   ],
   "source": [
    "df_students_answered.loc[df_students_answered[\"Qual é seu maior problema?\"].isnull()]"
   ]
  },
  {
   "cell_type": "markdown",
   "metadata": {},
   "source": [
    "* Here and in all subsequent cases we will replace the nans with the mode of the column or with a variable that wont result in any restriction in the end"
   ]
  },
  {
   "cell_type": "code",
   "execution_count": 60,
   "metadata": {
    "scrolled": true
   },
   "outputs": [
    {
     "data": {
      "text/plain": [
       "Procrastinação                                                                                            68\n",
       "Concentração                                                                                              48\n",
       "Velocidade                                                                                                18\n",
       "Dedicação                                                                                                  5\n",
       "Velocidade e procrastinação                                                                                1\n",
       "Alguns problemas pessoais tem afetado.                                                                     1\n",
       "Falta de interesse em algumas áreas                                                                        1\n",
       "Ansiedade e falta de confiança/ segurança no que eu faço!                                                  1\n",
       "Concentração, procrastinação e velocidade                                                                  1\n",
       "Organização                                                                                                1\n",
       "Procrastinação e Concentração                                                                              1\n",
       "no momento é o barulho em casa, fora isso eu acho que é a ansiedade.                                       1\n",
       "Na quarentena to precisando lidar com responsabilidades (mudança de apto, procura de móveis, reforma)      1\n",
       "Estresse                                                                                                   1\n",
       "Eficiencia                                                                                                 1\n",
       "Não perder o foco                                                                                          1\n",
       "Autoconfiança                                                                                              1\n",
       "Resiliência                                                                                                1\n",
       "Emocional                                                                                                  1\n",
       "Falta força de vontade também                                                                              1\n",
       "Autoconfiança                                                                                              1\n",
       "Resolver questões e fzr simulado                                                                           1\n",
       "Name: Qual é seu maior problema?, dtype: int64"
      ]
     },
     "execution_count": 60,
     "metadata": {},
     "output_type": "execute_result"
    }
   ],
   "source": [
    "df_students_answered[\"Qual é seu maior problema?\"].value_counts()"
   ]
  },
  {
   "cell_type": "code",
   "execution_count": 58,
   "metadata": {},
   "outputs": [
    {
     "name": "stderr",
     "output_type": "stream",
     "text": [
      "/home/itamar/anaconda3/lib/python3.7/site-packages/ipykernel_launcher.py:1: SettingWithCopyWarning: \n",
      "A value is trying to be set on a copy of a slice from a DataFrame\n",
      "\n",
      "See the caveats in the documentation: https://pandas.pydata.org/pandas-docs/stable/user_guide/indexing.html#returning-a-view-versus-a-copy\n",
      "  \"\"\"Entry point for launching an IPython kernel.\n",
      "/home/itamar/anaconda3/lib/python3.7/site-packages/IPython/core/interactiveshell.py:3319: SettingWithCopyWarning: \n",
      "A value is trying to be set on a copy of a slice from a DataFrame\n",
      "\n",
      "See the caveats in the documentation: https://pandas.pydata.org/pandas-docs/stable/user_guide/indexing.html#returning-a-view-versus-a-copy\n",
      "  exec(code_obj, self.user_global_ns, self.user_ns)\n"
     ]
    }
   ],
   "source": [
    "df_students_answered[\"Qual é seu maior problema?\"][110] = \"Procrastinação\""
   ]
  },
  {
   "cell_type": "code",
   "execution_count": 64,
   "metadata": {},
   "outputs": [
    {
     "data": {
      "text/html": [
       "<div>\n",
       "<style scoped>\n",
       "    .dataframe tbody tr th:only-of-type {\n",
       "        vertical-align: middle;\n",
       "    }\n",
       "\n",
       "    .dataframe tbody tr th {\n",
       "        vertical-align: top;\n",
       "    }\n",
       "\n",
       "    .dataframe thead th {\n",
       "        text-align: right;\n",
       "    }\n",
       "</style>\n",
       "<table border=\"1\" class=\"dataframe\">\n",
       "  <thead>\n",
       "    <tr style=\"text-align: right;\">\n",
       "      <th></th>\n",
       "      <th>Assessor</th>\n",
       "      <th>Aluno</th>\n",
       "      <th>tempo</th>\n",
       "      <th>Idade</th>\n",
       "      <th>Gênero</th>\n",
       "      <th>Quão compatível com seu assessor você se considera?</th>\n",
       "      <th>Onde fez/faz ensino médio?</th>\n",
       "      <th>Alguma religião?</th>\n",
       "      <th>Gosta de esportes?</th>\n",
       "      <th>Como foi/está sendo a qualidade de seu ensino médio?</th>\n",
       "      <th>...</th>\n",
       "      <th>Você gosta de ser cobrado?</th>\n",
       "      <th>Você é competitivo?</th>\n",
       "      <th>Você é aberto a mudanças? ou é mais resistente?</th>\n",
       "      <th>Você gosta de fazer simulado?</th>\n",
       "      <th>Você recebe apoio da sua família?</th>\n",
       "      <th>Você gostaria de falar sobre a vida pessoal com o assessor ou só estudos?</th>\n",
       "      <th>Quão motivado você está?</th>\n",
       "      <th>Qual é seu maior problema?</th>\n",
       "      <th>Você prefere um assessor do mesmo sexo?</th>\n",
       "      <th>(Qual é seu maior problema?, 110)</th>\n",
       "    </tr>\n",
       "  </thead>\n",
       "  <tbody>\n",
       "  </tbody>\n",
       "</table>\n",
       "<p>0 rows × 37 columns</p>\n",
       "</div>"
      ],
      "text/plain": [
       "Empty DataFrame\n",
       "Columns: [Assessor, Aluno, tempo, Idade, Gênero, Quão compatível com seu assessor você se considera?, Onde fez/faz ensino médio?, Alguma religião?, Gosta de esportes?, Como foi/está sendo a qualidade de seu ensino médio?, Você se envolve com política?, Como se considera politicamente?, Que área compreende o curso que deseja fazer na faculdade?, Qual sua área preferida no ENEM?, Quantos irmãos você tem?, Tem ou já teve algum problema de saúde físico?, Tem ou já teve algum problema de saúde mental?, Pretende fazer faculdade na paraíba?, Pratica atividade física com frequência?, Introvertido ou extrovertido?, No tempo livre prefere:, Tem facilidade em fazer amizades?, Que tipo de assessor prefere? mais técnico ou que lide melhor com seu emocional?, Quantas vezes já fez enem? (sem contar como treineiro), Você se considera uma pessoa paciente?, Você é organizado?, Quão sensível você é?, Você gosta de ser cobrado?, Você é competitivo?, Você é aberto a mudanças? ou é mais resistente?, Você gosta de fazer simulado?, Você recebe apoio da sua família?, Você gostaria de falar sobre a vida pessoal com o assessor ou só estudos?, Quão motivado você está?, Qual é seu maior problema?, Você prefere um assessor do mesmo sexo?, (Qual é seu maior problema?, 110)]\n",
       "Index: []\n",
       "\n",
       "[0 rows x 37 columns]"
      ]
     },
     "execution_count": 64,
     "metadata": {},
     "output_type": "execute_result"
    }
   ],
   "source": [
    "df_students_answered.loc[df_students_answered[\"No tempo livre prefere:\"].isnull()]"
   ]
  },
  {
   "cell_type": "code",
   "execution_count": 63,
   "metadata": {},
   "outputs": [
    {
     "data": {
      "text/plain": [
       "comer ou cinema                 59\n",
       "ficar em casa/assistir série    45\n",
       "balada                          41\n",
       "esporte                         12\n",
       "Name: No tempo livre prefere:, dtype: int64"
      ]
     },
     "execution_count": 63,
     "metadata": {},
     "output_type": "execute_result"
    }
   ],
   "source": [
    "df_students_answered[\"No tempo livre prefere:\"].value_counts()"
   ]
  },
  {
   "cell_type": "code",
   "execution_count": 62,
   "metadata": {},
   "outputs": [
    {
     "name": "stderr",
     "output_type": "stream",
     "text": [
      "/home/itamar/anaconda3/lib/python3.7/site-packages/ipykernel_launcher.py:1: SettingWithCopyWarning: \n",
      "A value is trying to be set on a copy of a slice from a DataFrame\n",
      "\n",
      "See the caveats in the documentation: https://pandas.pydata.org/pandas-docs/stable/user_guide/indexing.html#returning-a-view-versus-a-copy\n",
      "  \"\"\"Entry point for launching an IPython kernel.\n",
      "/home/itamar/anaconda3/lib/python3.7/site-packages/IPython/core/interactiveshell.py:3319: SettingWithCopyWarning: \n",
      "A value is trying to be set on a copy of a slice from a DataFrame\n",
      "\n",
      "See the caveats in the documentation: https://pandas.pydata.org/pandas-docs/stable/user_guide/indexing.html#returning-a-view-versus-a-copy\n",
      "  exec(code_obj, self.user_global_ns, self.user_ns)\n"
     ]
    }
   ],
   "source": [
    "df_students_answered[\"No tempo livre prefere:\"][107] = \"comer ou cinema\""
   ]
  },
  {
   "cell_type": "code",
   "execution_count": 39,
   "metadata": {
    "scrolled": false
   },
   "outputs": [
    {
     "data": {
      "text/html": [
       "<div>\n",
       "<style scoped>\n",
       "    .dataframe tbody tr th:only-of-type {\n",
       "        vertical-align: middle;\n",
       "    }\n",
       "\n",
       "    .dataframe tbody tr th {\n",
       "        vertical-align: top;\n",
       "    }\n",
       "\n",
       "    .dataframe thead th {\n",
       "        text-align: right;\n",
       "    }\n",
       "</style>\n",
       "<table border=\"1\" class=\"dataframe\">\n",
       "  <thead>\n",
       "    <tr style=\"text-align: right;\">\n",
       "      <th></th>\n",
       "      <th>Assessor</th>\n",
       "      <th>Aluno</th>\n",
       "      <th>tempo</th>\n",
       "      <th>Idade</th>\n",
       "      <th>Gênero</th>\n",
       "      <th>Quão compatível com seu assessor você se considera?</th>\n",
       "      <th>Onde fez/faz ensino médio?</th>\n",
       "      <th>Alguma religião?</th>\n",
       "      <th>Gosta de esportes?</th>\n",
       "      <th>Como foi/está sendo a qualidade de seu ensino médio?</th>\n",
       "      <th>...</th>\n",
       "      <th>Quão sensível você é?</th>\n",
       "      <th>Você gosta de ser cobrado?</th>\n",
       "      <th>Você é competitivo?</th>\n",
       "      <th>Você é aberto a mudanças? ou é mais resistente?</th>\n",
       "      <th>Você gosta de fazer simulado?</th>\n",
       "      <th>Você recebe apoio da sua família?</th>\n",
       "      <th>Você gostaria de falar sobre a vida pessoal com o assessor ou só estudos?</th>\n",
       "      <th>Quão motivado você está?</th>\n",
       "      <th>Qual é seu maior problema?</th>\n",
       "      <th>Você prefere um assessor do mesmo sexo?</th>\n",
       "    </tr>\n",
       "  </thead>\n",
       "  <tbody>\n",
       "    <tr>\n",
       "      <th>104</th>\n",
       "      <td>Gelielison</td>\n",
       "      <td>Adrya Catharinne Santos Sousa da Silva</td>\n",
       "      <td>5</td>\n",
       "      <td>17</td>\n",
       "      <td>Feminino</td>\n",
       "      <td>9.0</td>\n",
       "      <td>Outro em João Pessoa</td>\n",
       "      <td>Cristianismo</td>\n",
       "      <td>Não</td>\n",
       "      <td>4.0</td>\n",
       "      <td>...</td>\n",
       "      <td>10.0</td>\n",
       "      <td>Sim</td>\n",
       "      <td>Sim</td>\n",
       "      <td>Aberto</td>\n",
       "      <td>Sim</td>\n",
       "      <td>Sim</td>\n",
       "      <td>Os dois</td>\n",
       "      <td>8.0</td>\n",
       "      <td>Procrastinação</td>\n",
       "      <td>Indiferente</td>\n",
       "    </tr>\n",
       "    <tr>\n",
       "      <th>137</th>\n",
       "      <td>Itamar</td>\n",
       "      <td>Gabriel Bandeira</td>\n",
       "      <td>3</td>\n",
       "      <td>19</td>\n",
       "      <td>Masculino</td>\n",
       "      <td>8.0</td>\n",
       "      <td>Outra fora de João Pessoa</td>\n",
       "      <td>Cristianismo</td>\n",
       "      <td>Não</td>\n",
       "      <td>4.0</td>\n",
       "      <td>...</td>\n",
       "      <td>8.0</td>\n",
       "      <td>Não</td>\n",
       "      <td>Sim</td>\n",
       "      <td>Aberto</td>\n",
       "      <td>Sim</td>\n",
       "      <td>mais ou menos</td>\n",
       "      <td>Os dois</td>\n",
       "      <td>7.0</td>\n",
       "      <td>no momento é o barulho em casa, fora isso eu a...</td>\n",
       "      <td>Indiferente</td>\n",
       "    </tr>\n",
       "  </tbody>\n",
       "</table>\n",
       "<p>2 rows × 36 columns</p>\n",
       "</div>"
      ],
      "text/plain": [
       "       Assessor                                   Aluno  tempo Idade  \\\n",
       "104  Gelielison  Adrya Catharinne Santos Sousa da Silva      5    17   \n",
       "137      Itamar                        Gabriel Bandeira      3    19   \n",
       "\n",
       "        Gênero  Quão compatível com seu assessor você se considera?  \\\n",
       "104   Feminino                                                9.0     \n",
       "137  Masculino                                                8.0     \n",
       "\n",
       "    Onde fez/faz ensino médio? Alguma religião? Gosta de esportes?  \\\n",
       "104       Outro em João Pessoa     Cristianismo                Não   \n",
       "137  Outra fora de João Pessoa     Cristianismo                Não   \n",
       "\n",
       "     Como foi/está sendo a qualidade de seu ensino médio?  ...  \\\n",
       "104                                                4.0     ...   \n",
       "137                                                4.0     ...   \n",
       "\n",
       "    Quão sensível você é? Você gosta de ser cobrado? Você é competitivo?  \\\n",
       "104                  10.0                        Sim                 Sim   \n",
       "137                   8.0                        Não                 Sim   \n",
       "\n",
       "    Você é aberto a mudanças? ou é mais resistente?  \\\n",
       "104                                          Aberto   \n",
       "137                                          Aberto   \n",
       "\n",
       "    Você gosta de fazer simulado? Você recebe apoio da sua família?  \\\n",
       "104                           Sim                               Sim   \n",
       "137                           Sim                     mais ou menos   \n",
       "\n",
       "    Você gostaria de falar sobre a vida pessoal com o assessor ou só estudos?  \\\n",
       "104                                            Os dois                          \n",
       "137                                            Os dois                          \n",
       "\n",
       "    Quão motivado você está?  \\\n",
       "104                      8.0   \n",
       "137                      7.0   \n",
       "\n",
       "                            Qual é seu maior problema?  \\\n",
       "104                                     Procrastinação   \n",
       "137  no momento é o barulho em casa, fora isso eu a...   \n",
       "\n",
       "    Você prefere um assessor do mesmo sexo?  \n",
       "104                             Indiferente  \n",
       "137                             Indiferente  \n",
       "\n",
       "[2 rows x 36 columns]"
      ]
     },
     "execution_count": 39,
     "metadata": {},
     "output_type": "execute_result"
    }
   ],
   "source": [
    "df_students_answered.loc[df_students_answered[\"Como se considera politicamente?\"].isnull()]"
   ]
  },
  {
   "cell_type": "markdown",
   "metadata": {},
   "source": [
    "## Creating the compatibility matrix"
   ]
  },
  {
   "cell_type": "markdown",
   "metadata": {},
   "source": [
    "* This matrix is a result of the compatibility between Students and assessores. This will be the heaviest part of this application case."
   ]
  },
  {
   "cell_type": "code",
   "execution_count": null,
   "metadata": {},
   "outputs": [],
   "source": [
    "# creating a matrix with all 0\n",
    "compatibility_matrix = pd.DataFrame(0, columns = df.Assessor.unique(), index = df.Aluno)"
   ]
  },
  {
   "cell_type": "markdown",
   "metadata": {},
   "source": [
    "## Creating the compatibility metric"
   ]
  },
  {
   "cell_type": "code",
   "execution_count": null,
   "metadata": {
    "scrolled": true
   },
   "outputs": [],
   "source": [
    "df.head(1)"
   ]
  },
  {
   "cell_type": "code",
   "execution_count": null,
   "metadata": {},
   "outputs": [],
   "source": [
    "df_assessores.head(1)"
   ]
  },
  {
   "cell_type": "markdown",
   "metadata": {},
   "source": [
    "* First of all we will need to name the equivalent columns as the same"
   ]
  },
  {
   "cell_type": "code",
   "execution_count": null,
   "metadata": {},
   "outputs": [],
   "source": [
    "df_columns = df.columns\n",
    "df_assessores_columns = df_assessores.columns"
   ]
  },
  {
   "cell_type": "markdown",
   "metadata": {},
   "source": [
    "* The attributes Aluno,tempo and compatibility are specific for the students. We are only going to use the attributes that are common to both."
   ]
  },
  {
   "cell_type": "code",
   "execution_count": null,
   "metadata": {
    "scrolled": true
   },
   "outputs": [],
   "source": [
    "df_columns"
   ]
  },
  {
   "cell_type": "code",
   "execution_count": null,
   "metadata": {
    "scrolled": true
   },
   "outputs": [],
   "source": [
    "df_assessores_columns"
   ]
  },
  {
   "cell_type": "markdown",
   "metadata": {},
   "source": [
    "* Since all the advisors questions are in order, we will use it as a dictionary to know which question we are dealing with."
   ]
  },
  {
   "cell_type": "code",
   "execution_count": null,
   "metadata": {},
   "outputs": [],
   "source": [
    "questions_dict = dict(zip(range(len(df_assessores_columns)), df_assessores_columns))\n",
    "questions_dict"
   ]
  },
  {
   "cell_type": "markdown",
   "metadata": {},
   "source": [
    "* to make it easier, we will use numbers instead of questions"
   ]
  },
  {
   "cell_type": "code",
   "execution_count": null,
   "metadata": {},
   "outputs": [],
   "source": [
    "df_columns_new = [0, 'Aluno', 'tempo', 1, 2,\n",
    "       'Quão compatível com seu assessor você se considera?',\n",
    "       3, 4, 5, 6, 7, 8, 9, 10, 11, 12, 13, 14, 15, 16, 17, 18, 19, 20, 21, 22, 23, 24, 25, 26, 27,\n",
    "              28, 29, 30, 31, 32]"
   ]
  },
  {
   "cell_type": "code",
   "execution_count": null,
   "metadata": {},
   "outputs": [],
   "source": [
    "df_assessores_columns_new = [0, 1, 2, 3, 4, 5, 6, 7, 8, 9, 10, 11, 12, 13, 14, 15, 16, 17, 18, 19,\n",
    "                        20, 21, 22, 23, 24, 25, 26, 27, 28, 29, 30, 31, 32]"
   ]
  },
  {
   "cell_type": "markdown",
   "metadata": {},
   "source": [
    "* Adding the new columns to the previous dataframes"
   ]
  },
  {
   "cell_type": "code",
   "execution_count": null,
   "metadata": {},
   "outputs": [],
   "source": [
    "df.columns = df_columns_new"
   ]
  },
  {
   "cell_type": "code",
   "execution_count": null,
   "metadata": {},
   "outputs": [],
   "source": [
    "df_assessores.columns = df_assessores_columns_new"
   ]
  },
  {
   "cell_type": "code",
   "execution_count": null,
   "metadata": {
    "scrolled": true
   },
   "outputs": [],
   "source": [
    "df.head(1)"
   ]
  },
  {
   "cell_type": "markdown",
   "metadata": {},
   "source": [
    "* adding the aluno colum as index"
   ]
  },
  {
   "cell_type": "code",
   "execution_count": null,
   "metadata": {},
   "outputs": [],
   "source": [
    "df.index = df.Aluno"
   ]
  },
  {
   "cell_type": "code",
   "execution_count": null,
   "metadata": {
    "scrolled": true
   },
   "outputs": [],
   "source": [
    "df.head(1)"
   ]
  },
  {
   "cell_type": "code",
   "execution_count": null,
   "metadata": {},
   "outputs": [],
   "source": [
    "df_assessores.head(1)"
   ]
  },
  {
   "cell_type": "markdown",
   "metadata": {},
   "source": [
    "* adding the 0 index (advisor) column as index"
   ]
  },
  {
   "cell_type": "code",
   "execution_count": null,
   "metadata": {},
   "outputs": [],
   "source": [
    "df_assessores.index = df_assessores[0]"
   ]
  },
  {
   "cell_type": "code",
   "execution_count": null,
   "metadata": {},
   "outputs": [],
   "source": [
    "df_assessores.head()"
   ]
  },
  {
   "cell_type": "markdown",
   "metadata": {},
   "source": [
    "## creating the correlations between both quiz responses in order to compute the compability"
   ]
  },
  {
   "cell_type": "markdown",
   "metadata": {},
   "source": [
    "* In this section we will examine column by column how the variables relate to each other. Some of them have are positive if both are the same and some are not."
   ]
  },
  {
   "cell_type": "code",
   "execution_count": null,
   "metadata": {},
   "outputs": [],
   "source": [
    "questions_dict[1]"
   ]
  },
  {
   "cell_type": "markdown",
   "metadata": {},
   "source": [
    "* In this first section we are going to use it as a restriction. As no advisor should be responsible for a student that is 2 years older than him. So, in any case that this is not satisfacted, we will put a negative compatibility."
   ]
  },
  {
   "cell_type": "markdown",
   "metadata": {},
   "source": [
    "In order to do so, we will use the following dataframes:\n",
    "1. compatibility_matrix\n",
    "2. df\n",
    "3. df_assessores"
   ]
  },
  {
   "cell_type": "code",
   "execution_count": null,
   "metadata": {},
   "outputs": [],
   "source": [
    "compatibility_matrix['Ariel'][\"Adriel Ribeiro\"]"
   ]
  },
  {
   "cell_type": "code",
   "execution_count": null,
   "metadata": {},
   "outputs": [],
   "source": [
    "int(df.loc['Adriel Ribeiro'][1]) == 18"
   ]
  },
  {
   "cell_type": "code",
   "execution_count": null,
   "metadata": {},
   "outputs": [],
   "source": [
    "df_assessores.loc['Eduardo'][1]"
   ]
  },
  {
   "cell_type": "code",
   "execution_count": null,
   "metadata": {},
   "outputs": [],
   "source": [
    "for advisor in df_assessores[0]:\n",
    "    advisor_agr = df_assessores.loc[advisor][1] \n",
    "    for student in df.Aluno:\n",
    "        student_age = df.loc[student][1]\n",
    "        print(advisor, student)\n",
    "        if advisor_agr == \"24+\" and (student_age == \"24+\" or int(student_age) > 18):\n",
    "            compatibility_matrix[advisor][student] = 0\n",
    "        else:\n",
    "            compatibility_matrix[advisor][student] = -1\n",
    "            "
   ]
  },
  {
   "cell_type": "code",
   "execution_count": null,
   "metadata": {},
   "outputs": [],
   "source": [
    "compatibility_matrix"
   ]
  },
  {
   "cell_type": "code",
   "execution_count": null,
   "metadata": {},
   "outputs": [],
   "source": []
  }
 ],
 "metadata": {
  "kernelspec": {
   "display_name": "Python 3",
   "language": "python",
   "name": "python3"
  },
  "language_info": {
   "codemirror_mode": {
    "name": "ipython",
    "version": 3
   },
   "file_extension": ".py",
   "mimetype": "text/x-python",
   "name": "python",
   "nbconvert_exporter": "python",
   "pygments_lexer": "ipython3",
   "version": "3.7.5"
  }
 },
 "nbformat": 4,
 "nbformat_minor": 2
}
